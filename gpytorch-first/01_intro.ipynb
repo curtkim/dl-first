{
 "cells": [
  {
   "cell_type": "code",
   "execution_count": 1,
   "metadata": {
    "collapsed": true
   },
   "outputs": [],
   "source": [
    "import math\n",
    "import torch\n",
    "import gpytorch\n",
    "from matplotlib import pyplot as plt\n"
   ]
  },
  {
   "cell_type": "code",
   "execution_count": 2,
   "outputs": [],
   "source": [
    "train_x = torch.linspace(0, 1, 100)\n",
    "train_y = torch.sin(train_x * (2*math.pi)) + torch.randn(train_x.size()) * math.sqrt(0.04)"
   ],
   "metadata": {
    "collapsed": false,
    "pycharm": {
     "name": "#%%\n"
    }
   }
  },
  {
   "cell_type": "code",
   "execution_count": 4,
   "outputs": [
    {
     "name": "stderr",
     "output_type": "stream",
     "text": [
      "/home/curt/.pyenv/versions/3.8.9/lib/python3.8/site-packages/gpytorch/lazy/triangular_lazy_tensor.py:130: UserWarning: torch.triangular_solve is deprecated in favor of torch.linalg.solve_triangularand will be removed in a future PyTorch release.\n",
      "torch.linalg.solve_triangular has its arguments reversed and does not return a copy of one of the inputs.\n",
      "X = torch.triangular_solve(B, A).solution\n",
      "should be replaced with\n",
      "X = torch.linalg.solve_triangular(A, B). (Triggered internally at  ../aten/src/ATen/native/BatchLinearAlgebra.cpp:1672.)\n",
      "  res = torch.triangular_solve(right_tensor, self.evaluate(), upper=self.upper).solution\n"
     ]
    },
    {
     "name": "stdout",
     "output_type": "stream",
     "text": [
      "Iter 1/50 - Loss: 0.922   lengthscale: 0.693   noise: 0.693\n",
      "Iter 2/50 - Loss: 0.890   lengthscale: 0.644   noise: 0.644\n",
      "Iter 3/50 - Loss: 0.855   lengthscale: 0.598   noise: 0.598\n",
      "Iter 4/50 - Loss: 0.818   lengthscale: 0.555   noise: 0.554\n",
      "Iter 5/50 - Loss: 0.776   lengthscale: 0.514   noise: 0.513\n",
      "Iter 6/50 - Loss: 0.729   lengthscale: 0.475   noise: 0.474\n",
      "Iter 7/50 - Loss: 0.680   lengthscale: 0.439   noise: 0.437\n",
      "Iter 8/50 - Loss: 0.629   lengthscale: 0.404   noise: 0.402\n",
      "Iter 9/50 - Loss: 0.581   lengthscale: 0.372   noise: 0.370\n",
      "Iter 10/50 - Loss: 0.536   lengthscale: 0.342   noise: 0.339\n",
      "Iter 11/50 - Loss: 0.496   lengthscale: 0.315   noise: 0.311\n",
      "Iter 12/50 - Loss: 0.458   lengthscale: 0.292   noise: 0.284\n",
      "Iter 13/50 - Loss: 0.422   lengthscale: 0.272   noise: 0.260\n",
      "Iter 14/50 - Loss: 0.387   lengthscale: 0.256   noise: 0.237\n",
      "Iter 15/50 - Loss: 0.352   lengthscale: 0.244   noise: 0.216\n",
      "Iter 16/50 - Loss: 0.318   lengthscale: 0.234   noise: 0.197\n",
      "Iter 17/50 - Loss: 0.283   lengthscale: 0.227   noise: 0.179\n",
      "Iter 18/50 - Loss: 0.249   lengthscale: 0.222   noise: 0.163\n",
      "Iter 19/50 - Loss: 0.215   lengthscale: 0.219   noise: 0.148\n",
      "Iter 20/50 - Loss: 0.181   lengthscale: 0.218   noise: 0.134\n",
      "Iter 21/50 - Loss: 0.148   lengthscale: 0.218   noise: 0.122\n",
      "Iter 22/50 - Loss: 0.115   lengthscale: 0.220   noise: 0.111\n",
      "Iter 23/50 - Loss: 0.084   lengthscale: 0.224   noise: 0.101\n",
      "Iter 24/50 - Loss: 0.054   lengthscale: 0.228   noise: 0.092\n",
      "Iter 25/50 - Loss: 0.025   lengthscale: 0.234   noise: 0.083\n",
      "Iter 26/50 - Loss: -0.001   lengthscale: 0.240   noise: 0.076\n",
      "Iter 27/50 - Loss: -0.025   lengthscale: 0.247   noise: 0.069\n",
      "Iter 28/50 - Loss: -0.047   lengthscale: 0.255   noise: 0.063\n",
      "Iter 29/50 - Loss: -0.066   lengthscale: 0.263   noise: 0.058\n",
      "Iter 30/50 - Loss: -0.082   lengthscale: 0.271   noise: 0.053\n",
      "Iter 31/50 - Loss: -0.094   lengthscale: 0.280   noise: 0.049\n",
      "Iter 32/50 - Loss: -0.103   lengthscale: 0.287   noise: 0.045\n",
      "Iter 33/50 - Loss: -0.109   lengthscale: 0.294   noise: 0.042\n",
      "Iter 34/50 - Loss: -0.113   lengthscale: 0.300   noise: 0.039\n",
      "Iter 35/50 - Loss: -0.114   lengthscale: 0.303   noise: 0.036\n",
      "Iter 36/50 - Loss: -0.113   lengthscale: 0.305   noise: 0.034\n",
      "Iter 37/50 - Loss: -0.111   lengthscale: 0.305   noise: 0.032\n",
      "Iter 38/50 - Loss: -0.108   lengthscale: 0.302   noise: 0.031\n",
      "Iter 39/50 - Loss: -0.105   lengthscale: 0.298   noise: 0.029\n",
      "Iter 40/50 - Loss: -0.102   lengthscale: 0.292   noise: 0.028\n",
      "Iter 41/50 - Loss: -0.100   lengthscale: 0.286   noise: 0.028\n",
      "Iter 42/50 - Loss: -0.098   lengthscale: 0.280   noise: 0.027\n",
      "Iter 43/50 - Loss: -0.096   lengthscale: 0.273   noise: 0.027\n",
      "Iter 44/50 - Loss: -0.096   lengthscale: 0.267   noise: 0.027\n",
      "Iter 45/50 - Loss: -0.096   lengthscale: 0.261   noise: 0.027\n",
      "Iter 46/50 - Loss: -0.097   lengthscale: 0.256   noise: 0.027\n",
      "Iter 47/50 - Loss: -0.099   lengthscale: 0.251   noise: 0.027\n",
      "Iter 48/50 - Loss: -0.101   lengthscale: 0.247   noise: 0.028\n",
      "Iter 49/50 - Loss: -0.103   lengthscale: 0.243   noise: 0.028\n",
      "Iter 50/50 - Loss: -0.105   lengthscale: 0.240   noise: 0.029\n"
     ]
    }
   ],
   "source": [
    "class ExactGPModel(gpytorch.models.ExactGP):\n",
    "    def __init__(self, train_x, train_y, likelihood):\n",
    "        super(ExactGPModel, self).__init__(train_x, train_y, likelihood)\n",
    "        self.mean_module = gpytorch.means.ConstantMean()\n",
    "        self.covar_module = gpytorch.kernels.ScaleKernel(gpytorch.kernels.RBFKernel())\n",
    "\n",
    "    def forward(self, x):\n",
    "        mean_x = self.mean_module(x)\n",
    "        covar_x = self.covar_module(x)\n",
    "        return gpytorch.distributions.MultivariateNormal(mean_x, covar_x)\n",
    "\n",
    "likelihood = gpytorch.likelihoods.GaussianLikelihood()\n",
    "model= ExactGPModel(train_x, train_y,likelihood)\n",
    "\n",
    "# %%\n",
    "# this is for running the notebook in our testing framework\n",
    "import os\n",
    "smoke_test = ('CI' in os.environ)\n",
    "training_iter = 2 if smoke_test else 50\n",
    "\n",
    "\n",
    "# Find optimal model hyperparameters\n",
    "model.train()\n",
    "likelihood.train()\n",
    "\n",
    "# Use the adam optimizer\n",
    "optimizer = torch.optim.Adam(model.parameters(), lr=0.1)  # Includes GaussianLikelihood parameters\n",
    "\n",
    "# \"Loss\" for GPs - the marginal log likelihood\n",
    "mll = gpytorch.mlls.ExactMarginalLogLikelihood(likelihood, model)\n",
    "\n",
    "for i in range(training_iter):\n",
    "    # Zero gradients from previous iteration\n",
    "    optimizer.zero_grad()\n",
    "    # Output from model\n",
    "    output = model(train_x)\n",
    "    # Calc loss and backprop gradients\n",
    "    loss = -mll(output, train_y)\n",
    "    loss.backward()\n",
    "    print('Iter %d/%d - Loss: %.3f   lengthscale: %.3f   noise: %.3f' % (\n",
    "        i + 1, training_iter, loss.item(),\n",
    "        model.covar_module.base_kernel.lengthscale.item(),\n",
    "        model.likelihood.noise.item()\n",
    "    ))\n",
    "    optimizer.step()"
   ],
   "metadata": {
    "collapsed": false,
    "pycharm": {
     "name": "#%%\n"
    }
   }
  },
  {
   "cell_type": "code",
   "execution_count": 6,
   "outputs": [],
   "source": [
    "# Get into evaluation (predictive posterior) mode\n",
    "model.eval()\n",
    "likelihood.eval()\n",
    "\n",
    "# Test points are regularly spaced along [0,1]\n",
    "# Make predictions by feeding model through likelihood\n",
    "with torch.no_grad(), gpytorch.settings.fast_pred_var():\n",
    "    test_x = torch.linspace(0, 1, 51)\n",
    "    observed_pred = likelihood(model(test_x))"
   ],
   "metadata": {
    "collapsed": false,
    "pycharm": {
     "name": "#%%\n"
    }
   }
  },
  {
   "cell_type": "code",
   "execution_count": 8,
   "outputs": [
    {
     "data": {
      "text/plain": "<Figure size 720x360 with 1 Axes>",
      "image/png": "[encoded data removed]"
     },
     "metadata": {
      "needs_background": "light"
     },
     "output_type": "display_data"
    }
   ],
   "source": [
    "with torch.no_grad():\n",
    "    # Initialize plot\n",
    "    f, ax = plt.subplots(1, 1, figsize=(10, 5))\n",
    "\n",
    "    # Get upper and lower confidence bounds\n",
    "    lower, upper = observed_pred.confidence_region()\n",
    "    # Plot training data as black stars\n",
    "    ax.plot(train_x.numpy(), train_y.numpy(), 'k*')\n",
    "    # Plot predictive means as blue line\n",
    "    ax.plot(test_x.numpy(), observed_pred.mean.numpy(), 'b')\n",
    "    # Shade between the lower and upper confidence bounds\n",
    "    ax.fill_between(test_x.numpy(), lower.numpy(), upper.numpy(), alpha=0.5)\n",
    "    ax.set_ylim([-3, 3])\n",
    "    ax.legend(['Observed Data', 'Mean', 'Confidence'])"
   ],
   "metadata": {
    "collapsed": false,
    "pycharm": {
     "name": "#%%\n"
    }
   }
  },
  {
   "cell_type": "code",
   "execution_count": null,
   "outputs": [],
   "source": [],
   "metadata": {
    "collapsed": false,
    "pycharm": {
     "name": "#%%\n"
    }
   }
  }
 ],
 "metadata": {
  "kernelspec": {
   "display_name": "Python 3",
   "language": "python",
   "name": "python3"
  },
  "language_info": {
   "codemirror_mode": {
    "name": "ipython",
    "version": 2
   },
   "file_extension": ".py",
   "mimetype": "text/x-python",
   "name": "python",
   "nbconvert_exporter": "python",
   "pygments_lexer": "ipython2",
   "version": "2.7.6"
  }
 },
 "nbformat": 4,
 "nbformat_minor": 0
}