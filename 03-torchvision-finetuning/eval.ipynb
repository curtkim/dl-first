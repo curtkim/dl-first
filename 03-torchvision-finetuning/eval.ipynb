{
 "cells": [
  {
   "cell_type": "code",
   "execution_count": 1,
   "id": "c38634e2",
   "metadata": {},
   "outputs": [],
   "source": [
    "import json\n",
    "import numpy as np\n",
    "\n",
    "import matplotlib.pyplot as plt\n",
    "import matplotlib.patches as patches"
   ]
  },
  {
   "cell_type": "code",
   "execution_count": 2,
   "id": "73b82896",
   "metadata": {},
   "outputs": [],
   "source": [
    "def load_json(filename: str):\n",
    "    with open(filename) as json_file:\n",
    "        return json.load(json_file)"
   ]
  },
  {
   "cell_type": "code",
   "execution_count": 3,
   "id": "7e395e8f",
   "metadata": {},
   "outputs": [],
   "source": [
    "gt = load_json(\"test/gt_annotations.json\")\n",
    "detections = load_json(\"test/detections.json\")"
   ]
  },
  {
   "cell_type": "code",
   "execution_count": 4,
   "id": "44886495",
   "metadata": {},
   "outputs": [
    {
     "name": "stdout",
     "output_type": "stream",
     "text": [
      "[[417.3332824707031, 159.27003479003906, 47.66064453125, 143.00193786621094], [383.5909118652344, 172.0777587890625, 17.959075927734375, 36.94813537597656], [457.8359069824219, 158.88027954101562, 9.89764404296875, 8.771820068359375]]\n"
     ]
    }
   ],
   "source": [
    "det_139 = [det['bbox'] for det in detections if det['image_id'] == 139]\n",
    "print(det_139)"
   ]
  },
  {
   "cell_type": "code",
   "execution_count": 5,
   "id": "b3228738",
   "metadata": {},
   "outputs": [
    {
     "name": "stdout",
     "output_type": "stream",
     "text": [
      "[[412.8, 157.61, 53.05, 138.01], [384.43, 172.21, 15.12, 35.74]]\n"
     ]
    }
   ],
   "source": [
    "gt_139 = [anno['bbox'] for anno in gt['annotations'] if anno['image_id'] == 139]\n",
    "print(gt_139)"
   ]
  },
  {
   "cell_type": "code",
   "execution_count": 6,
   "id": "22f27b45",
   "metadata": {},
   "outputs": [
    {
     "name": "stdout",
     "output_type": "stream",
     "text": [
      "{'license': 2, 'file_name': '000000000139.jpg', 'coco_url': 'http://images.cocodataset.org/val2017/000000000139.jpg', 'height': 426, 'width': 640, 'date_captured': '2013-11-21 01:34:01', 'flickr_url': 'http://farm9.staticflickr.com/8035/8024364858_9c41dc1666_z.jpg', 'id': 139}\n"
     ]
    }
   ],
   "source": [
    "image_139 = gt['images'][1]\n",
    "print(image_139)"
   ]
  },
  {
   "cell_type": "code",
   "execution_count": 7,
   "id": "022d6990",
   "metadata": {},
   "outputs": [
    {
     "name": "stdout",
     "output_type": "stream",
     "text": [
      "(426, 640, 3) uint8\n"
     ]
    }
   ],
   "source": [
    "empty_image = np.full((image_139['height'], image_139['width'], 3), 255, dtype=np.uint8)\n",
    "print(empty_image.shape, empty_image.dtype)"
   ]
  },
  {
   "cell_type": "code",
   "execution_count": 8,
   "id": "08a3a139",
   "metadata": {},
   "outputs": [],
   "source": [
    "def draw_boxes(arr, color):\n",
    "    for row in arr:\n",
    "        rect = patches.Rectangle((row[0], row[1]), row[2], row[3], linewidth=1, edgecolor=color, facecolor=\"none\")\n",
    "        ax.add_patch(rect)"
   ]
  },
  {
   "cell_type": "code",
   "execution_count": 9,
   "id": "090f0bec",
   "metadata": {},
   "outputs": [
    {
     "data": {
      "image/png": "[encoded data removed]",
      "text/plain": [
       "<Figure size 1440x720 with 3 Axes>"
      ]
     },
     "metadata": {
      "needs_background": "light"
     },
     "output_type": "display_data"
    }
   ],
   "source": [
    "fig, axs = plt.subplots(ncols=3, squeeze=False, figsize=(20,10))\n",
    "\n",
    "ax = axs[0, 0]\n",
    "ax.imshow(empty_image)\n",
    "ax.set_title('gt')\n",
    "draw_boxes(gt_139, 'r')        \n",
    "\n",
    "ax = axs[0, 1]\n",
    "ax.imshow(empty_image)\n",
    "ax.set_title('pred')\n",
    "draw_boxes(det_139, 'b')        \n",
    "\n",
    "ax = axs[0, 2]\n",
    "ax.imshow(empty_image)\n",
    "draw_boxes(gt_139, 'r')        \n",
    "draw_boxes(det_139, 'b')        \n",
    "\n",
    "plt.show()"
   ]
  },
  {
   "cell_type": "code",
   "execution_count": 12,
   "id": "a3b15a8a",
   "metadata": {},
   "outputs": [],
   "source": [
    "import contextlib\n",
    "from pycocotools.coco import COCO\n",
    "from pycocotools.cocoeval import COCOeval\n",
    "import io"
   ]
  },
  {
   "cell_type": "code",
   "execution_count": 14,
   "id": "dc9ac548",
   "metadata": {},
   "outputs": [],
   "source": [
    "with contextlib.redirect_stdout(io.StringIO()):\n",
    "    coco_api = COCO(\"test/gt_annotations.json\")\n",
    "\n",
    "detections = load_json(\"test/detections.json\")\n",
    "with contextlib.redirect_stdout(io.StringIO()):\n",
    "    coco_dt = coco_api.loadRes(detections)\n",
    "    coco_eval = COCOeval(coco_api, coco_dt, \"bbox\")\n",
    "    coco_eval.evaluate()\n",
    "    coco_eval.accumulate()"
   ]
  },
  {
   "cell_type": "code",
   "execution_count": 15,
   "id": "a7a7da75",
   "metadata": {},
   "outputs": [
    {
     "name": "stdout",
     "output_type": "stream",
     "text": [
      " Average Precision  (AP) @[ IoU=0.50:0.95 | area=   all | maxDets=100 ] = 0.750\n",
      " Average Precision  (AP) @[ IoU=0.50      | area=   all | maxDets=100 ] = 1.000\n",
      " Average Precision  (AP) @[ IoU=0.75      | area=   all | maxDets=100 ] = 1.000\n",
      " Average Precision  (AP) @[ IoU=0.50:0.95 | area= small | maxDets=100 ] = 0.700\n",
      " Average Precision  (AP) @[ IoU=0.50:0.95 | area=medium | maxDets=100 ] = 0.800\n",
      " Average Precision  (AP) @[ IoU=0.50:0.95 | area= large | maxDets=100 ] = -1.000\n",
      " Average Recall     (AR) @[ IoU=0.50:0.95 | area=   all | maxDets=  1 ] = 0.400\n",
      " Average Recall     (AR) @[ IoU=0.50:0.95 | area=   all | maxDets= 10 ] = 0.750\n",
      " Average Recall     (AR) @[ IoU=0.50:0.95 | area=   all | maxDets=100 ] = 0.750\n",
      " Average Recall     (AR) @[ IoU=0.50:0.95 | area= small | maxDets=100 ] = 0.700\n",
      " Average Recall     (AR) @[ IoU=0.50:0.95 | area=medium | maxDets=100 ] = 0.800\n",
      " Average Recall     (AR) @[ IoU=0.50:0.95 | area= large | maxDets=100 ] = -1.000\n"
     ]
    }
   ],
   "source": [
    "coco_eval.summarize()"
   ]
  }
 ],
 "metadata": {
  "kernelspec": {
   "display_name": "Python 3",
   "language": "python",
   "name": "python3"
  },
  "language_info": {
   "codemirror_mode": {
    "name": "ipython",
    "version": 3
   },
   "file_extension": ".py",
   "mimetype": "text/x-python",
   "name": "python",
   "nbconvert_exporter": "python",
   "pygments_lexer": "ipython3",
   "version": "3.8.9"
  }
 },
 "nbformat": 4,
 "nbformat_minor": 5
}
