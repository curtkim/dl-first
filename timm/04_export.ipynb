{
 "cells": [
  {
   "cell_type": "code",
   "execution_count": 1,
   "metadata": {
    "collapsed": true,
    "pycharm": {
     "name": "#%% [markdownv]\n"
    }
   },
   "outputs": [],
   "source": [
    "## torchscript"
   ]
  },
  {
   "cell_type": "code",
   "execution_count": 3,
   "outputs": [
    {
     "data": {
      "text/plain": "ResNet(\n  (conv1): Sequential(\n    (0): Conv2d(3, 32, kernel_size=(3, 3), stride=(2, 2), padding=(1, 1), bias=False)\n    (1): BatchNorm2d(32, eps=1e-05, momentum=0.1, affine=True, track_running_stats=True)\n    (2): ReLU(inplace=True)\n    (3): Conv2d(32, 32, kernel_size=(3, 3), stride=(1, 1), padding=(1, 1), bias=False)\n    (4): BatchNorm2d(32, eps=1e-05, momentum=0.1, affine=True, track_running_stats=True)\n    (5): ReLU(inplace=True)\n    (6): Conv2d(32, 64, kernel_size=(3, 3), stride=(1, 1), padding=(1, 1), bias=False)\n  )\n  (bn1): BatchNorm2d(64, eps=1e-05, momentum=0.1, affine=True, track_running_stats=True)\n  (act1): ReLU(inplace=True)\n  (maxpool): MaxPool2d(kernel_size=3, stride=2, padding=1, dilation=1, ceil_mode=False)\n  (layer1): Sequential(\n    (0): Bottleneck(\n      (conv1): Conv2d(64, 64, kernel_size=(1, 1), stride=(1, 1), bias=False)\n      (bn1): BatchNorm2d(64, eps=1e-05, momentum=0.1, affine=True, track_running_stats=True)\n      (act1): ReLU(inplace=True)\n      (conv2): Conv2d(64, 64, kernel_size=(3, 3), stride=(1, 1), padding=(1, 1), bias=False)\n      (bn2): BatchNorm2d(64, eps=1e-05, momentum=0.1, affine=True, track_running_stats=True)\n      (act2): ReLU(inplace=True)\n      (conv3): Conv2d(64, 256, kernel_size=(1, 1), stride=(1, 1), bias=False)\n      (bn3): BatchNorm2d(256, eps=1e-05, momentum=0.1, affine=True, track_running_stats=True)\n      (act3): ReLU(inplace=True)\n      (downsample): Sequential(\n        (0): Identity()\n        (1): Conv2d(64, 256, kernel_size=(1, 1), stride=(1, 1), bias=False)\n        (2): BatchNorm2d(256, eps=1e-05, momentum=0.1, affine=True, track_running_stats=True)\n      )\n    )\n    (1): Bottleneck(\n      (conv1): Conv2d(256, 64, kernel_size=(1, 1), stride=(1, 1), bias=False)\n      (bn1): BatchNorm2d(64, eps=1e-05, momentum=0.1, affine=True, track_running_stats=True)\n      (act1): ReLU(inplace=True)\n      (conv2): Conv2d(64, 64, kernel_size=(3, 3), stride=(1, 1), padding=(1, 1), bias=False)\n      (bn2): BatchNorm2d(64, eps=1e-05, momentum=0.1, affine=True, track_running_stats=True)\n      (act2): ReLU(inplace=True)\n      (conv3): Conv2d(64, 256, kernel_size=(1, 1), stride=(1, 1), bias=False)\n      (bn3): BatchNorm2d(256, eps=1e-05, momentum=0.1, affine=True, track_running_stats=True)\n      (act3): ReLU(inplace=True)\n    )\n    (2): Bottleneck(\n      (conv1): Conv2d(256, 64, kernel_size=(1, 1), stride=(1, 1), bias=False)\n      (bn1): BatchNorm2d(64, eps=1e-05, momentum=0.1, affine=True, track_running_stats=True)\n      (act1): ReLU(inplace=True)\n      (conv2): Conv2d(64, 64, kernel_size=(3, 3), stride=(1, 1), padding=(1, 1), bias=False)\n      (bn2): BatchNorm2d(64, eps=1e-05, momentum=0.1, affine=True, track_running_stats=True)\n      (act2): ReLU(inplace=True)\n      (conv3): Conv2d(64, 256, kernel_size=(1, 1), stride=(1, 1), bias=False)\n      (bn3): BatchNorm2d(256, eps=1e-05, momentum=0.1, affine=True, track_running_stats=True)\n      (act3): ReLU(inplace=True)\n    )\n  )\n  (layer2): Sequential(\n    (0): Bottleneck(\n      (conv1): Conv2d(256, 128, kernel_size=(1, 1), stride=(1, 1), bias=False)\n      (bn1): BatchNorm2d(128, eps=1e-05, momentum=0.1, affine=True, track_running_stats=True)\n      (act1): ReLU(inplace=True)\n      (conv2): Conv2d(128, 128, kernel_size=(3, 3), stride=(2, 2), padding=(1, 1), bias=False)\n      (bn2): BatchNorm2d(128, eps=1e-05, momentum=0.1, affine=True, track_running_stats=True)\n      (act2): ReLU(inplace=True)\n      (conv3): Conv2d(128, 512, kernel_size=(1, 1), stride=(1, 1), bias=False)\n      (bn3): BatchNorm2d(512, eps=1e-05, momentum=0.1, affine=True, track_running_stats=True)\n      (act3): ReLU(inplace=True)\n      (downsample): Sequential(\n        (0): AvgPool2d(kernel_size=2, stride=2, padding=0)\n        (1): Conv2d(256, 512, kernel_size=(1, 1), stride=(1, 1), bias=False)\n        (2): BatchNorm2d(512, eps=1e-05, momentum=0.1, affine=True, track_running_stats=True)\n      )\n    )\n    (1): Bottleneck(\n      (conv1): Conv2d(512, 128, kernel_size=(1, 1), stride=(1, 1), bias=False)\n      (bn1): BatchNorm2d(128, eps=1e-05, momentum=0.1, affine=True, track_running_stats=True)\n      (act1): ReLU(inplace=True)\n      (conv2): Conv2d(128, 128, kernel_size=(3, 3), stride=(1, 1), padding=(1, 1), bias=False)\n      (bn2): BatchNorm2d(128, eps=1e-05, momentum=0.1, affine=True, track_running_stats=True)\n      (act2): ReLU(inplace=True)\n      (conv3): Conv2d(128, 512, kernel_size=(1, 1), stride=(1, 1), bias=False)\n      (bn3): BatchNorm2d(512, eps=1e-05, momentum=0.1, affine=True, track_running_stats=True)\n      (act3): ReLU(inplace=True)\n    )\n    (2): Bottleneck(\n      (conv1): Conv2d(512, 128, kernel_size=(1, 1), stride=(1, 1), bias=False)\n      (bn1): BatchNorm2d(128, eps=1e-05, momentum=0.1, affine=True, track_running_stats=True)\n      (act1): ReLU(inplace=True)\n      (conv2): Conv2d(128, 128, kernel_size=(3, 3), stride=(1, 1), padding=(1, 1), bias=False)\n      (bn2): BatchNorm2d(128, eps=1e-05, momentum=0.1, affine=True, track_running_stats=True)\n      (act2): ReLU(inplace=True)\n      (conv3): Conv2d(128, 512, kernel_size=(1, 1), stride=(1, 1), bias=False)\n      (bn3): BatchNorm2d(512, eps=1e-05, momentum=0.1, affine=True, track_running_stats=True)\n      (act3): ReLU(inplace=True)\n    )\n    (3): Bottleneck(\n      (conv1): Conv2d(512, 128, kernel_size=(1, 1), stride=(1, 1), bias=False)\n      (bn1): BatchNorm2d(128, eps=1e-05, momentum=0.1, affine=True, track_running_stats=True)\n      (act1): ReLU(inplace=True)\n      (conv2): Conv2d(128, 128, kernel_size=(3, 3), stride=(1, 1), padding=(1, 1), bias=False)\n      (bn2): BatchNorm2d(128, eps=1e-05, momentum=0.1, affine=True, track_running_stats=True)\n      (act2): ReLU(inplace=True)\n      (conv3): Conv2d(128, 512, kernel_size=(1, 1), stride=(1, 1), bias=False)\n      (bn3): BatchNorm2d(512, eps=1e-05, momentum=0.1, affine=True, track_running_stats=True)\n      (act3): ReLU(inplace=True)\n    )\n  )\n  (layer3): Sequential(\n    (0): Bottleneck(\n      (conv1): Conv2d(512, 256, kernel_size=(1, 1), stride=(1, 1), bias=False)\n      (bn1): BatchNorm2d(256, eps=1e-05, momentum=0.1, affine=True, track_running_stats=True)\n      (act1): ReLU(inplace=True)\n      (conv2): Conv2d(256, 256, kernel_size=(3, 3), stride=(2, 2), padding=(1, 1), bias=False)\n      (bn2): BatchNorm2d(256, eps=1e-05, momentum=0.1, affine=True, track_running_stats=True)\n      (act2): ReLU(inplace=True)\n      (conv3): Conv2d(256, 1024, kernel_size=(1, 1), stride=(1, 1), bias=False)\n      (bn3): BatchNorm2d(1024, eps=1e-05, momentum=0.1, affine=True, track_running_stats=True)\n      (act3): ReLU(inplace=True)\n      (downsample): Sequential(\n        (0): AvgPool2d(kernel_size=2, stride=2, padding=0)\n        (1): Conv2d(512, 1024, kernel_size=(1, 1), stride=(1, 1), bias=False)\n        (2): BatchNorm2d(1024, eps=1e-05, momentum=0.1, affine=True, track_running_stats=True)\n      )\n    )\n    (1): Bottleneck(\n      (conv1): Conv2d(1024, 256, kernel_size=(1, 1), stride=(1, 1), bias=False)\n      (bn1): BatchNorm2d(256, eps=1e-05, momentum=0.1, affine=True, track_running_stats=True)\n      (act1): ReLU(inplace=True)\n      (conv2): Conv2d(256, 256, kernel_size=(3, 3), stride=(1, 1), padding=(1, 1), bias=False)\n      (bn2): BatchNorm2d(256, eps=1e-05, momentum=0.1, affine=True, track_running_stats=True)\n      (act2): ReLU(inplace=True)\n      (conv3): Conv2d(256, 1024, kernel_size=(1, 1), stride=(1, 1), bias=False)\n      (bn3): BatchNorm2d(1024, eps=1e-05, momentum=0.1, affine=True, track_running_stats=True)\n      (act3): ReLU(inplace=True)\n    )\n    (2): Bottleneck(\n      (conv1): Conv2d(1024, 256, kernel_size=(1, 1), stride=(1, 1), bias=False)\n      (bn1): BatchNorm2d(256, eps=1e-05, momentum=0.1, affine=True, track_running_stats=True)\n      (act1): ReLU(inplace=True)\n      (conv2): Conv2d(256, 256, kernel_size=(3, 3), stride=(1, 1), padding=(1, 1), bias=False)\n      (bn2): BatchNorm2d(256, eps=1e-05, momentum=0.1, affine=True, track_running_stats=True)\n      (act2): ReLU(inplace=True)\n      (conv3): Conv2d(256, 1024, kernel_size=(1, 1), stride=(1, 1), bias=False)\n      (bn3): BatchNorm2d(1024, eps=1e-05, momentum=0.1, affine=True, track_running_stats=True)\n      (act3): ReLU(inplace=True)\n    )\n    (3): Bottleneck(\n      (conv1): Conv2d(1024, 256, kernel_size=(1, 1), stride=(1, 1), bias=False)\n      (bn1): BatchNorm2d(256, eps=1e-05, momentum=0.1, affine=True, track_running_stats=True)\n      (act1): ReLU(inplace=True)\n      (conv2): Conv2d(256, 256, kernel_size=(3, 3), stride=(1, 1), padding=(1, 1), bias=False)\n      (bn2): BatchNorm2d(256, eps=1e-05, momentum=0.1, affine=True, track_running_stats=True)\n      (act2): ReLU(inplace=True)\n      (conv3): Conv2d(256, 1024, kernel_size=(1, 1), stride=(1, 1), bias=False)\n      (bn3): BatchNorm2d(1024, eps=1e-05, momentum=0.1, affine=True, track_running_stats=True)\n      (act3): ReLU(inplace=True)\n    )\n    (4): Bottleneck(\n      (conv1): Conv2d(1024, 256, kernel_size=(1, 1), stride=(1, 1), bias=False)\n      (bn1): BatchNorm2d(256, eps=1e-05, momentum=0.1, affine=True, track_running_stats=True)\n      (act1): ReLU(inplace=True)\n      (conv2): Conv2d(256, 256, kernel_size=(3, 3), stride=(1, 1), padding=(1, 1), bias=False)\n      (bn2): BatchNorm2d(256, eps=1e-05, momentum=0.1, affine=True, track_running_stats=True)\n      (act2): ReLU(inplace=True)\n      (conv3): Conv2d(256, 1024, kernel_size=(1, 1), stride=(1, 1), bias=False)\n      (bn3): BatchNorm2d(1024, eps=1e-05, momentum=0.1, affine=True, track_running_stats=True)\n      (act3): ReLU(inplace=True)\n    )\n    (5): Bottleneck(\n      (conv1): Conv2d(1024, 256, kernel_size=(1, 1), stride=(1, 1), bias=False)\n      (bn1): BatchNorm2d(256, eps=1e-05, momentum=0.1, affine=True, track_running_stats=True)\n      (act1): ReLU(inplace=True)\n      (conv2): Conv2d(256, 256, kernel_size=(3, 3), stride=(1, 1), padding=(1, 1), bias=False)\n      (bn2): BatchNorm2d(256, eps=1e-05, momentum=0.1, affine=True, track_running_stats=True)\n      (act2): ReLU(inplace=True)\n      (conv3): Conv2d(256, 1024, kernel_size=(1, 1), stride=(1, 1), bias=False)\n      (bn3): BatchNorm2d(1024, eps=1e-05, momentum=0.1, affine=True, track_running_stats=True)\n      (act3): ReLU(inplace=True)\n    )\n  )\n  (layer4): Sequential(\n    (0): Bottleneck(\n      (conv1): Conv2d(1024, 512, kernel_size=(1, 1), stride=(1, 1), bias=False)\n      (bn1): BatchNorm2d(512, eps=1e-05, momentum=0.1, affine=True, track_running_stats=True)\n      (act1): ReLU(inplace=True)\n      (conv2): Conv2d(512, 512, kernel_size=(3, 3), stride=(2, 2), padding=(1, 1), bias=False)\n      (bn2): BatchNorm2d(512, eps=1e-05, momentum=0.1, affine=True, track_running_stats=True)\n      (act2): ReLU(inplace=True)\n      (conv3): Conv2d(512, 2048, kernel_size=(1, 1), stride=(1, 1), bias=False)\n      (bn3): BatchNorm2d(2048, eps=1e-05, momentum=0.1, affine=True, track_running_stats=True)\n      (act3): ReLU(inplace=True)\n      (downsample): Sequential(\n        (0): AvgPool2d(kernel_size=2, stride=2, padding=0)\n        (1): Conv2d(1024, 2048, kernel_size=(1, 1), stride=(1, 1), bias=False)\n        (2): BatchNorm2d(2048, eps=1e-05, momentum=0.1, affine=True, track_running_stats=True)\n      )\n    )\n    (1): Bottleneck(\n      (conv1): Conv2d(2048, 512, kernel_size=(1, 1), stride=(1, 1), bias=False)\n      (bn1): BatchNorm2d(512, eps=1e-05, momentum=0.1, affine=True, track_running_stats=True)\n      (act1): ReLU(inplace=True)\n      (conv2): Conv2d(512, 512, kernel_size=(3, 3), stride=(1, 1), padding=(1, 1), bias=False)\n      (bn2): BatchNorm2d(512, eps=1e-05, momentum=0.1, affine=True, track_running_stats=True)\n      (act2): ReLU(inplace=True)\n      (conv3): Conv2d(512, 2048, kernel_size=(1, 1), stride=(1, 1), bias=False)\n      (bn3): BatchNorm2d(2048, eps=1e-05, momentum=0.1, affine=True, track_running_stats=True)\n      (act3): ReLU(inplace=True)\n    )\n    (2): Bottleneck(\n      (conv1): Conv2d(2048, 512, kernel_size=(1, 1), stride=(1, 1), bias=False)\n      (bn1): BatchNorm2d(512, eps=1e-05, momentum=0.1, affine=True, track_running_stats=True)\n      (act1): ReLU(inplace=True)\n      (conv2): Conv2d(512, 512, kernel_size=(3, 3), stride=(1, 1), padding=(1, 1), bias=False)\n      (bn2): BatchNorm2d(512, eps=1e-05, momentum=0.1, affine=True, track_running_stats=True)\n      (act2): ReLU(inplace=True)\n      (conv3): Conv2d(512, 2048, kernel_size=(1, 1), stride=(1, 1), bias=False)\n      (bn3): BatchNorm2d(2048, eps=1e-05, momentum=0.1, affine=True, track_running_stats=True)\n      (act3): ReLU(inplace=True)\n    )\n  )\n  (global_pool): SelectAdaptivePool2d (pool_type=avg, flatten=Flatten(start_dim=1, end_dim=-1))\n  (fc): Linear(in_features=2048, out_features=1000, bias=True)\n)"
     },
     "execution_count": 3,
     "metadata": {},
     "output_type": "execute_result"
    }
   ],
   "source": [
    "import torch\n",
    "import timm\n",
    "\n",
    "model = timm.create_model('resnet50d', pretrained=True, scriptable=True)\n",
    "model.eval()\n"
   ],
   "metadata": {
    "collapsed": false,
    "pycharm": {
     "name": "#%%\n"
    }
   }
  },
  {
   "cell_type": "code",
   "execution_count": 5,
   "outputs": [
    {
     "data": {
      "text/plain": "RecursiveScriptModule(\n  original_name=ResNet\n  (conv1): RecursiveScriptModule(\n    original_name=Sequential\n    (0): RecursiveScriptModule(original_name=Conv2d)\n    (1): RecursiveScriptModule(original_name=BatchNorm2d)\n    (2): RecursiveScriptModule(original_name=ReLU)\n    (3): RecursiveScriptModule(original_name=Conv2d)\n    (4): RecursiveScriptModule(original_name=BatchNorm2d)\n    (5): RecursiveScriptModule(original_name=ReLU)\n    (6): RecursiveScriptModule(original_name=Conv2d)\n  )\n  (bn1): RecursiveScriptModule(original_name=BatchNorm2d)\n  (act1): RecursiveScriptModule(original_name=ReLU)\n  (maxpool): RecursiveScriptModule(original_name=MaxPool2d)\n  (layer1): RecursiveScriptModule(\n    original_name=Sequential\n    (0): RecursiveScriptModule(\n      original_name=Bottleneck\n      (conv1): RecursiveScriptModule(original_name=Conv2d)\n      (bn1): RecursiveScriptModule(original_name=BatchNorm2d)\n      (act1): RecursiveScriptModule(original_name=ReLU)\n      (conv2): RecursiveScriptModule(original_name=Conv2d)\n      (bn2): RecursiveScriptModule(original_name=BatchNorm2d)\n      (act2): RecursiveScriptModule(original_name=ReLU)\n      (conv3): RecursiveScriptModule(original_name=Conv2d)\n      (bn3): RecursiveScriptModule(original_name=BatchNorm2d)\n      (act3): RecursiveScriptModule(original_name=ReLU)\n      (downsample): RecursiveScriptModule(\n        original_name=Sequential\n        (0): RecursiveScriptModule(original_name=Identity)\n        (1): RecursiveScriptModule(original_name=Conv2d)\n        (2): RecursiveScriptModule(original_name=BatchNorm2d)\n      )\n    )\n    (1): RecursiveScriptModule(\n      original_name=Bottleneck\n      (conv1): RecursiveScriptModule(original_name=Conv2d)\n      (bn1): RecursiveScriptModule(original_name=BatchNorm2d)\n      (act1): RecursiveScriptModule(original_name=ReLU)\n      (conv2): RecursiveScriptModule(original_name=Conv2d)\n      (bn2): RecursiveScriptModule(original_name=BatchNorm2d)\n      (act2): RecursiveScriptModule(original_name=ReLU)\n      (conv3): RecursiveScriptModule(original_name=Conv2d)\n      (bn3): RecursiveScriptModule(original_name=BatchNorm2d)\n      (act3): RecursiveScriptModule(original_name=ReLU)\n    )\n    (2): RecursiveScriptModule(\n      original_name=Bottleneck\n      (conv1): RecursiveScriptModule(original_name=Conv2d)\n      (bn1): RecursiveScriptModule(original_name=BatchNorm2d)\n      (act1): RecursiveScriptModule(original_name=ReLU)\n      (conv2): RecursiveScriptModule(original_name=Conv2d)\n      (bn2): RecursiveScriptModule(original_name=BatchNorm2d)\n      (act2): RecursiveScriptModule(original_name=ReLU)\n      (conv3): RecursiveScriptModule(original_name=Conv2d)\n      (bn3): RecursiveScriptModule(original_name=BatchNorm2d)\n      (act3): RecursiveScriptModule(original_name=ReLU)\n    )\n  )\n  (layer2): RecursiveScriptModule(\n    original_name=Sequential\n    (0): RecursiveScriptModule(\n      original_name=Bottleneck\n      (conv1): RecursiveScriptModule(original_name=Conv2d)\n      (bn1): RecursiveScriptModule(original_name=BatchNorm2d)\n      (act1): RecursiveScriptModule(original_name=ReLU)\n      (conv2): RecursiveScriptModule(original_name=Conv2d)\n      (bn2): RecursiveScriptModule(original_name=BatchNorm2d)\n      (act2): RecursiveScriptModule(original_name=ReLU)\n      (conv3): RecursiveScriptModule(original_name=Conv2d)\n      (bn3): RecursiveScriptModule(original_name=BatchNorm2d)\n      (act3): RecursiveScriptModule(original_name=ReLU)\n      (downsample): RecursiveScriptModule(\n        original_name=Sequential\n        (0): RecursiveScriptModule(original_name=AvgPool2d)\n        (1): RecursiveScriptModule(original_name=Conv2d)\n        (2): RecursiveScriptModule(original_name=BatchNorm2d)\n      )\n    )\n    (1): RecursiveScriptModule(\n      original_name=Bottleneck\n      (conv1): RecursiveScriptModule(original_name=Conv2d)\n      (bn1): RecursiveScriptModule(original_name=BatchNorm2d)\n      (act1): RecursiveScriptModule(original_name=ReLU)\n      (conv2): RecursiveScriptModule(original_name=Conv2d)\n      (bn2): RecursiveScriptModule(original_name=BatchNorm2d)\n      (act2): RecursiveScriptModule(original_name=ReLU)\n      (conv3): RecursiveScriptModule(original_name=Conv2d)\n      (bn3): RecursiveScriptModule(original_name=BatchNorm2d)\n      (act3): RecursiveScriptModule(original_name=ReLU)\n    )\n    (2): RecursiveScriptModule(\n      original_name=Bottleneck\n      (conv1): RecursiveScriptModule(original_name=Conv2d)\n      (bn1): RecursiveScriptModule(original_name=BatchNorm2d)\n      (act1): RecursiveScriptModule(original_name=ReLU)\n      (conv2): RecursiveScriptModule(original_name=Conv2d)\n      (bn2): RecursiveScriptModule(original_name=BatchNorm2d)\n      (act2): RecursiveScriptModule(original_name=ReLU)\n      (conv3): RecursiveScriptModule(original_name=Conv2d)\n      (bn3): RecursiveScriptModule(original_name=BatchNorm2d)\n      (act3): RecursiveScriptModule(original_name=ReLU)\n    )\n    (3): RecursiveScriptModule(\n      original_name=Bottleneck\n      (conv1): RecursiveScriptModule(original_name=Conv2d)\n      (bn1): RecursiveScriptModule(original_name=BatchNorm2d)\n      (act1): RecursiveScriptModule(original_name=ReLU)\n      (conv2): RecursiveScriptModule(original_name=Conv2d)\n      (bn2): RecursiveScriptModule(original_name=BatchNorm2d)\n      (act2): RecursiveScriptModule(original_name=ReLU)\n      (conv3): RecursiveScriptModule(original_name=Conv2d)\n      (bn3): RecursiveScriptModule(original_name=BatchNorm2d)\n      (act3): RecursiveScriptModule(original_name=ReLU)\n    )\n  )\n  (layer3): RecursiveScriptModule(\n    original_name=Sequential\n    (0): RecursiveScriptModule(\n      original_name=Bottleneck\n      (conv1): RecursiveScriptModule(original_name=Conv2d)\n      (bn1): RecursiveScriptModule(original_name=BatchNorm2d)\n      (act1): RecursiveScriptModule(original_name=ReLU)\n      (conv2): RecursiveScriptModule(original_name=Conv2d)\n      (bn2): RecursiveScriptModule(original_name=BatchNorm2d)\n      (act2): RecursiveScriptModule(original_name=ReLU)\n      (conv3): RecursiveScriptModule(original_name=Conv2d)\n      (bn3): RecursiveScriptModule(original_name=BatchNorm2d)\n      (act3): RecursiveScriptModule(original_name=ReLU)\n      (downsample): RecursiveScriptModule(\n        original_name=Sequential\n        (0): RecursiveScriptModule(original_name=AvgPool2d)\n        (1): RecursiveScriptModule(original_name=Conv2d)\n        (2): RecursiveScriptModule(original_name=BatchNorm2d)\n      )\n    )\n    (1): RecursiveScriptModule(\n      original_name=Bottleneck\n      (conv1): RecursiveScriptModule(original_name=Conv2d)\n      (bn1): RecursiveScriptModule(original_name=BatchNorm2d)\n      (act1): RecursiveScriptModule(original_name=ReLU)\n      (conv2): RecursiveScriptModule(original_name=Conv2d)\n      (bn2): RecursiveScriptModule(original_name=BatchNorm2d)\n      (act2): RecursiveScriptModule(original_name=ReLU)\n      (conv3): RecursiveScriptModule(original_name=Conv2d)\n      (bn3): RecursiveScriptModule(original_name=BatchNorm2d)\n      (act3): RecursiveScriptModule(original_name=ReLU)\n    )\n    (2): RecursiveScriptModule(\n      original_name=Bottleneck\n      (conv1): RecursiveScriptModule(original_name=Conv2d)\n      (bn1): RecursiveScriptModule(original_name=BatchNorm2d)\n      (act1): RecursiveScriptModule(original_name=ReLU)\n      (conv2): RecursiveScriptModule(original_name=Conv2d)\n      (bn2): RecursiveScriptModule(original_name=BatchNorm2d)\n      (act2): RecursiveScriptModule(original_name=ReLU)\n      (conv3): RecursiveScriptModule(original_name=Conv2d)\n      (bn3): RecursiveScriptModule(original_name=BatchNorm2d)\n      (act3): RecursiveScriptModule(original_name=ReLU)\n    )\n    (3): RecursiveScriptModule(\n      original_name=Bottleneck\n      (conv1): RecursiveScriptModule(original_name=Conv2d)\n      (bn1): RecursiveScriptModule(original_name=BatchNorm2d)\n      (act1): RecursiveScriptModule(original_name=ReLU)\n      (conv2): RecursiveScriptModule(original_name=Conv2d)\n      (bn2): RecursiveScriptModule(original_name=BatchNorm2d)\n      (act2): RecursiveScriptModule(original_name=ReLU)\n      (conv3): RecursiveScriptModule(original_name=Conv2d)\n      (bn3): RecursiveScriptModule(original_name=BatchNorm2d)\n      (act3): RecursiveScriptModule(original_name=ReLU)\n    )\n    (4): RecursiveScriptModule(\n      original_name=Bottleneck\n      (conv1): RecursiveScriptModule(original_name=Conv2d)\n      (bn1): RecursiveScriptModule(original_name=BatchNorm2d)\n      (act1): RecursiveScriptModule(original_name=ReLU)\n      (conv2): RecursiveScriptModule(original_name=Conv2d)\n      (bn2): RecursiveScriptModule(original_name=BatchNorm2d)\n      (act2): RecursiveScriptModule(original_name=ReLU)\n      (conv3): RecursiveScriptModule(original_name=Conv2d)\n      (bn3): RecursiveScriptModule(original_name=BatchNorm2d)\n      (act3): RecursiveScriptModule(original_name=ReLU)\n    )\n    (5): RecursiveScriptModule(\n      original_name=Bottleneck\n      (conv1): RecursiveScriptModule(original_name=Conv2d)\n      (bn1): RecursiveScriptModule(original_name=BatchNorm2d)\n      (act1): RecursiveScriptModule(original_name=ReLU)\n      (conv2): RecursiveScriptModule(original_name=Conv2d)\n      (bn2): RecursiveScriptModule(original_name=BatchNorm2d)\n      (act2): RecursiveScriptModule(original_name=ReLU)\n      (conv3): RecursiveScriptModule(original_name=Conv2d)\n      (bn3): RecursiveScriptModule(original_name=BatchNorm2d)\n      (act3): RecursiveScriptModule(original_name=ReLU)\n    )\n  )\n  (layer4): RecursiveScriptModule(\n    original_name=Sequential\n    (0): RecursiveScriptModule(\n      original_name=Bottleneck\n      (conv1): RecursiveScriptModule(original_name=Conv2d)\n      (bn1): RecursiveScriptModule(original_name=BatchNorm2d)\n      (act1): RecursiveScriptModule(original_name=ReLU)\n      (conv2): RecursiveScriptModule(original_name=Conv2d)\n      (bn2): RecursiveScriptModule(original_name=BatchNorm2d)\n      (act2): RecursiveScriptModule(original_name=ReLU)\n      (conv3): RecursiveScriptModule(original_name=Conv2d)\n      (bn3): RecursiveScriptModule(original_name=BatchNorm2d)\n      (act3): RecursiveScriptModule(original_name=ReLU)\n      (downsample): RecursiveScriptModule(\n        original_name=Sequential\n        (0): RecursiveScriptModule(original_name=AvgPool2d)\n        (1): RecursiveScriptModule(original_name=Conv2d)\n        (2): RecursiveScriptModule(original_name=BatchNorm2d)\n      )\n    )\n    (1): RecursiveScriptModule(\n      original_name=Bottleneck\n      (conv1): RecursiveScriptModule(original_name=Conv2d)\n      (bn1): RecursiveScriptModule(original_name=BatchNorm2d)\n      (act1): RecursiveScriptModule(original_name=ReLU)\n      (conv2): RecursiveScriptModule(original_name=Conv2d)\n      (bn2): RecursiveScriptModule(original_name=BatchNorm2d)\n      (act2): RecursiveScriptModule(original_name=ReLU)\n      (conv3): RecursiveScriptModule(original_name=Conv2d)\n      (bn3): RecursiveScriptModule(original_name=BatchNorm2d)\n      (act3): RecursiveScriptModule(original_name=ReLU)\n    )\n    (2): RecursiveScriptModule(\n      original_name=Bottleneck\n      (conv1): RecursiveScriptModule(original_name=Conv2d)\n      (bn1): RecursiveScriptModule(original_name=BatchNorm2d)\n      (act1): RecursiveScriptModule(original_name=ReLU)\n      (conv2): RecursiveScriptModule(original_name=Conv2d)\n      (bn2): RecursiveScriptModule(original_name=BatchNorm2d)\n      (act2): RecursiveScriptModule(original_name=ReLU)\n      (conv3): RecursiveScriptModule(original_name=Conv2d)\n      (bn3): RecursiveScriptModule(original_name=BatchNorm2d)\n      (act3): RecursiveScriptModule(original_name=ReLU)\n    )\n  )\n  (global_pool): RecursiveScriptModule(\n    original_name=SelectAdaptivePool2d\n    (flatten): RecursiveScriptModule(original_name=Flatten)\n    (pool): RecursiveScriptModule(original_name=AdaptiveAvgPool2d)\n  )\n  (fc): RecursiveScriptModule(original_name=Linear)\n)"
     },
     "execution_count": 5,
     "metadata": {},
     "output_type": "execute_result"
    }
   ],
   "source": [
    "scripted_model = torch.jit.script(model)\n",
    "scripted_model"
   ],
   "metadata": {
    "collapsed": false,
    "pycharm": {
     "name": "#%%\n"
    }
   }
  },
  {
   "cell_type": "code",
   "execution_count": 6,
   "outputs": [
    {
     "data": {
      "text/plain": "torch.Size([8, 1000])"
     },
     "execution_count": 6,
     "metadata": {},
     "output_type": "execute_result"
    }
   ],
   "source": [
    "scripted_model(torch.rand(8, 3, 224, 224)).shape"
   ],
   "metadata": {
    "collapsed": false,
    "pycharm": {
     "name": "#%%\n"
    }
   }
  },
  {
   "cell_type": "code",
   "execution_count": 7,
   "outputs": [],
   "source": [
    "## ONNX"
   ],
   "metadata": {
    "collapsed": false,
    "pycharm": {
     "name": "#%% [markdow]\n"
    }
   }
  },
  {
   "cell_type": "code",
   "execution_count": 8,
   "outputs": [],
   "source": [
    "x = torch.randn(2,3,224, 224, requires_grad=True)\n",
    "torch_out = model(x)\n",
    "\n",
    "torch.onnx.export(model, x, 'resnet50d.onnx', export_params=True, opset_version=10, do_constant_folding=True, input_names=['input'], output_names=['output'], dynamic_axes={'input': {0: 'batch_size'}, 'output': {0: 'batch_size'}})"
   ],
   "metadata": {
    "collapsed": false,
    "pycharm": {
     "name": "#%%\n"
    }
   }
  },
  {
   "cell_type": "code",
   "execution_count": 9,
   "outputs": [],
   "source": [
    "import onnx\n",
    "\n",
    "onnx_model = onnx.load('resnet50d.onnx')\n",
    "onnx.checker.check_model(onnx_model)"
   ],
   "metadata": {
    "collapsed": false,
    "pycharm": {
     "name": "#%%\n"
    }
   }
  },
  {
   "cell_type": "code",
   "execution_count": 10,
   "outputs": [
    {
     "name": "stdout",
     "output_type": "stream",
     "text": [
      "<class 'torch.jit._trace.TopLevelTracedModule'>\n"
     ]
    },
    {
     "data": {
      "text/plain": "torch.Size([8, 1000])"
     },
     "execution_count": 10,
     "metadata": {},
     "output_type": "execute_result"
    }
   ],
   "source": [
    "trace_model = torch.jit.trace(model, torch.rand(8,3,244,224))\n",
    "print(type(trace_model))\n",
    "trace_model(torch.rand(8,3,244,244)).shape\n"
   ],
   "metadata": {
    "collapsed": false,
    "pycharm": {
     "name": "#%%\n"
    }
   }
  },
  {
   "cell_type": "code",
   "execution_count": null,
   "outputs": [],
   "source": [],
   "metadata": {
    "collapsed": false,
    "pycharm": {
     "name": "#%%\n"
    }
   }
  }
 ],
 "metadata": {
  "kernelspec": {
   "display_name": "Python 3",
   "language": "python",
   "name": "python3"
  },
  "language_info": {
   "codemirror_mode": {
    "name": "ipython",
    "version": 2
   },
   "file_extension": ".py",
   "mimetype": "text/x-python",
   "name": "python",
   "nbconvert_exporter": "python",
   "pygments_lexer": "ipython2",
   "version": "2.7.6"
  }
 },
 "nbformat": 4,
 "nbformat_minor": 0
}